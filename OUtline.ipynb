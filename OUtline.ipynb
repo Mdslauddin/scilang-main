{
 "cells": [
  {
   "cell_type": "markdown",
   "metadata": {},
   "source": [
    "[c++wikipedia](https://en.wikipedia.org/wiki/C%2B%2B)"
   ]
  },
  {
   "attachments": {},
   "cell_type": "markdown",
   "metadata": {},
   "source": [
    "[python-wiki](https://en.wikipedia.org/wiki/Python_(programming_language))"
   ]
  },
  {
   "attachments": {},
   "cell_type": "markdown",
   "metadata": {},
   "source": [
    "[java-wiki](https://en.wikipedia.org/wiki/Java_(programming_language))"
   ]
  }
 ],
 "metadata": {
  "language_info": {
   "name": "python"
  },
  "orig_nbformat": 4
 },
 "nbformat": 4,
 "nbformat_minor": 2
}
